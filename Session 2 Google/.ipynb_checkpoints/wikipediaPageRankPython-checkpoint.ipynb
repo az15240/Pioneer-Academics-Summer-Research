{
 "cells": [
  {
   "cell_type": "markdown",
   "metadata": {},
   "source": [
    "# Wikipedia web network\n",
    "This notebook creates an adjacency matrix from a root Wikipedia page. It then find the PageRank of the produced web network. \n",
    "\n",
    "Created by Tim Chartier"
   ]
  },
  {
   "cell_type": "markdown",
   "metadata": {},
   "source": [
    "### Create the network"
   ]
  },
  {
   "cell_type": "code",
   "execution_count": 1,
   "metadata": {},
   "outputs": [],
   "source": [
    "import wikipediaNetwork as wiki\n",
    "\n",
    "sizeOfNetwork = 10 # How many Wikipedia web pages do you want in the network? \n",
    "A, wikiPages = wiki.wikipediaNetwork('https://en.wikipedia.org/wiki/Python_(programming_language)',sizeOfNetwork)"
   ]
  },
  {
   "cell_type": "markdown",
   "metadata": {},
   "source": [
    "### Plot the network"
   ]
  },
  {
   "cell_type": "code",
   "execution_count": 2,
   "metadata": {},
   "outputs": [
    {
     "name": "stdout",
     "output_type": "stream",
     "text": [
      "[[1. 0. 0. 0. 0. 0. 0. 0. 0. 1.]\n",
      " [0. 1. 0. 0. 0. 0. 1. 0. 0. 0.]\n",
      " [0. 0. 1. 0. 0. 0. 0. 0. 0. 0.]\n",
      " [0. 0. 0. 0. 0. 1. 0. 0. 0. 1.]\n",
      " [0. 0. 0. 0. 1. 0. 0. 0. 0. 0.]\n",
      " [0. 0. 0. 0. 0. 1. 0. 0. 0. 0.]\n",
      " [0. 1. 0. 0. 0. 0. 1. 0. 0. 0.]\n",
      " [0. 0. 0. 0. 0. 0. 0. 1. 0. 0.]\n",
      " [0. 0. 0. 0. 0. 0. 0. 0. 1. 0.]\n",
      " [1. 0. 0. 0. 0. 0. 0. 0. 0. 1.]]\n"
     ]
    },
    {
     "data": {
      "image/png": "[encoded data removed]",
      "text/plain": [
       "<Figure size 432x288 with 1 Axes>"
      ]
     },
     "metadata": {
      "needs_background": "light"
     },
     "output_type": "display_data"
    }
   ],
   "source": [
    "import matplotlib.pylab as plt\n",
    "message = plt.spy(A)\n",
    "print(A)"
   ]
  },
  {
   "cell_type": "markdown",
   "metadata": {},
   "source": [
    "### Compute PageRank on network"
   ]
  },
  {
   "cell_type": "code",
   "execution_count": 3,
   "metadata": {},
   "outputs": [],
   "source": [
    "# This function finds the PageRank of a networ passed as an adjacency matrix. \n",
    "# Created by Tim Chartier. \n",
    "\n",
    "def pagerank(A,TOL = 10^-3):\n",
    "\n",
    "    import numpy as np\n",
    "    \n",
    "    # Remove loops (links to one's own webpage)\n",
    "    A = A - np.diag(np.diag(A))\n",
    "    \n",
    "    # Construct Google matrix \n",
    "    alpha = 0.85\n",
    "    rowSum = np.sum(A,1) # Compute the row sums\n",
    "    sizeOfNetwork = len(A)\n",
    "    G = np.zeros((sizeOfNetwork,sizeOfNetwork))\n",
    "    for i in range(sizeOfNetwork):\n",
    "        if (rowSum[i] == 0): # dangling node\n",
    "            G[i,:] = np.ones((1,sizeOfNetwork))/sizeOfNetwork\n",
    "        else:\n",
    "            G[i,:] = alpha*A[i,:]/rowSum[i] + (1-alpha)/sizeOfNetwork\n",
    "\n",
    "    # Compute PageRank vector\n",
    "    numberOfLoops = 100\n",
    "    v0 = np.ones(sizeOfNetwork)/sizeOfNetwork  # initial state\n",
    "    vNew = v0\n",
    "    for i in range(numberOfLoops):\n",
    "        vOld = vNew\n",
    "        vNew = vOld@G     \n",
    "        if (np.amax(vNew - vOld) < TOL):\n",
    "            break\n",
    "\n",
    "    return vNew"
   ]
  },
  {
   "cell_type": "code",
   "execution_count": 4,
   "metadata": {},
   "outputs": [],
   "source": [
    "import numpy as np\n",
    "pageRankVector = pagerank(A)"
   ]
  },
  {
   "cell_type": "markdown",
   "metadata": {},
   "source": [
    "### Print the results"
   ]
  },
  {
   "cell_type": "code",
   "execution_count": 5,
   "metadata": {},
   "outputs": [
    {
     "name": "stdout",
     "output_type": "stream",
     "text": [
      "Rank  PageRank   Webpage\n",
      "==============================================\n",
      "  0   0.22820    /wiki/High-level_programming_language\n",
      "  1   0.22181    /wiki/Virtual_machine\n",
      "  2   0.18557    /wiki/Arbitrary-precision_arithmetic\n",
      "  3   0.18557    /wiki/String_(computer_science)\n",
      "  4   0.03967    /wiki/Statement_(computer_science)\n"
     ]
    }
   ],
   "source": [
    "numberOfPagesToPrint = 5\n",
    "\n",
    "numberOfPagesToPrint = np.amin([len(pageRankVector),numberOfPagesToPrint])\n",
    "\n",
    "iSort = np.argsort(-pageRankVector)   # the - gives us a reverse sort and np.argsort gives us the indices of the sort\n",
    "print('Rank  PageRank   Webpage')\n",
    "print('==============================================')\n",
    "for i in range(numberOfPagesToPrint):\n",
    "    print(f'{i:3d}   {pageRankVector[iSort[i]]:7.5f}    {wikiPages[iSort[i]]}')"
   ]
  },
  {
   "cell_type": "code",
   "execution_count": null,
   "metadata": {},
   "outputs": [],
   "source": []
  }
 ],
 "metadata": {
  "kernelspec": {
   "display_name": "Python 3",
   "language": "python",
   "name": "python3"
  },
  "language_info": {
   "codemirror_mode": {
    "name": "ipython",
    "version": 3
   },
   "file_extension": ".py",
   "mimetype": "text/x-python",
   "name": "python",
   "nbconvert_exporter": "python",
   "pygments_lexer": "ipython3",
   "version": "3.7.6"
  }
 },
 "nbformat": 4,
 "nbformat_minor": 4
}
