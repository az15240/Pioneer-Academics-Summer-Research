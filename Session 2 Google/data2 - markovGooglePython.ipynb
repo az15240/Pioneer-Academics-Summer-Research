{
 "cells": [
  {
   "cell_type": "markdown",
   "metadata": {},
   "source": [
    "# Markov Google\n",
    "\n",
    "This notebook uses Markov Chains to find the PageRank of a network.  \n",
    "\n",
    "The user must supply the adjacency matrix. \n",
    "\n",
    "Created by Tim Chartier. "
   ]
  },
  {
   "cell_type": "code",
   "execution_count": 2,
   "metadata": {},
   "outputs": [],
   "source": [
    "import numpy as np"
   ]
  },
  {
   "cell_type": "markdown",
   "metadata": {},
   "source": [
    "### Create adjacency matrix"
   ]
  },
  {
   "cell_type": "code",
   "execution_count": 3,
   "metadata": {},
   "outputs": [
    {
     "data": {
      "image/png": "[encoded data removed]",
      "text/plain": [
       "<Figure size 640x480 with 1 Axes>"
      ]
     },
     "metadata": {},
     "output_type": "display_data"
    }
   ],
   "source": [
    "A = np.array([[0,1,1,0,0,1,0,0,0,0],[1,0,1,0,0,0,0,0,0,0],[0,1,0,1,0,1,0,0,1,1],[0,0,1,0,0,1,0,0,0,1],[0,0,0,0,0,1,0,1,0,0],[0,0,1,0,1,0,0,0,1,1],[0,0,1,0,0,0,0,0,0,0],[0,0,0,0,1,0,0,0,1,0],[0,0,0,0,0,0,0,0,0,0],[0,0,0,0,0,0,0,0,0,0]])\n",
    "\n",
    "# Create a random adjacency matrix\n",
    "# import random \n",
    "# A = (np.random.rand(500,500) > .9).astype(int)\n",
    "\n",
    "# Spy plot the matrix\n",
    "import matplotlib.pylab as plt\n",
    "message = plt.spy(A)"
   ]
  },
  {
   "cell_type": "markdown",
   "metadata": {},
   "source": [
    "### Construct the Google matrix"
   ]
  },
  {
   "cell_type": "code",
   "execution_count": 4,
   "metadata": {},
   "outputs": [],
   "source": [
    "# Grab the size of the network\n",
    "sizeOfNetwork = len(A)\n",
    "# Remove loops (links to one's own webpage)\n",
    "A = A - np.diag(np.diag(A))"
   ]
  },
  {
   "cell_type": "code",
   "execution_count": 5,
   "metadata": {},
   "outputs": [
    {
     "name": "stdout",
     "output_type": "stream",
     "text": [
      "G = \n",
      " [[0.015      0.29833333 0.29833333 0.015      0.015      0.29833333\n",
      "  0.015      0.015      0.015      0.015     ]\n",
      " [0.44       0.015      0.44       0.015      0.015      0.015\n",
      "  0.015      0.015      0.015      0.015     ]\n",
      " [0.015      0.185      0.015      0.185      0.015      0.185\n",
      "  0.015      0.015      0.185      0.185     ]\n",
      " [0.015      0.015      0.29833333 0.015      0.015      0.29833333\n",
      "  0.015      0.015      0.015      0.29833333]\n",
      " [0.015      0.015      0.015      0.015      0.015      0.44\n",
      "  0.015      0.44       0.015      0.015     ]\n",
      " [0.015      0.015      0.2275     0.015      0.2275     0.015\n",
      "  0.015      0.015      0.2275     0.2275    ]\n",
      " [0.015      0.015      0.865      0.015      0.015      0.015\n",
      "  0.015      0.015      0.015      0.015     ]\n",
      " [0.015      0.015      0.015      0.015      0.44       0.015\n",
      "  0.015      0.015      0.44       0.015     ]\n",
      " [0.1        0.1        0.1        0.1        0.1        0.1\n",
      "  0.1        0.1        0.1        0.1       ]\n",
      " [0.1        0.1        0.1        0.1        0.1        0.1\n",
      "  0.1        0.1        0.1        0.1       ]]\n"
     ]
    }
   ],
   "source": [
    "alpha = 0.85 # teleportation parameter\n",
    "rowSum = np.sum(A,1) # Compute the row sums\n",
    "G = np.zeros((sizeOfNetwork,sizeOfNetwork)) # initalize the Google matrix \n",
    "for i in range(sizeOfNetwork):\n",
    "    if (rowSum[i] == 0): # dangling node\n",
    "       G[i,:] = np.ones((1,sizeOfNetwork))/sizeOfNetwork\n",
    "    else:\n",
    "       G[i,:] = alpha*A[i,:]/rowSum[i] + (1-alpha)/sizeOfNetwork\n",
    "print('G = \\n',G)"
   ]
  },
  {
   "cell_type": "markdown",
   "metadata": {},
   "source": [
    "### Loop to compute PageRank"
   ]
  },
  {
   "cell_type": "code",
   "execution_count": 6,
   "metadata": {},
   "outputs": [],
   "source": [
    "numberOfLoops = 100\n",
    "v0 = np.zeros(sizeOfNetwork) # initial state\n",
    "v0[np.random.randint(sizeOfNetwork)] = 1 # create a random webpage on which to start\n",
    "v = v0\n",
    "for i in range(numberOfLoops):\n",
    "    v = v@G"
   ]
  },
  {
   "cell_type": "markdown",
   "metadata": {},
   "source": [
    "### Sort and print PageRank"
   ]
  },
  {
   "cell_type": "code",
   "execution_count": 8,
   "metadata": {},
   "outputs": [
    {
     "name": "stdout",
     "output_type": "stream",
     "text": [
      "Page  PageRank  \n",
      "===============\n",
      "  2   0.17247\n",
      "  5   0.14650\n",
      "  8   0.12949\n",
      "  9   0.11464\n",
      "  4   0.10017\n",
      "  1   0.08550\n",
      "  7   0.07832\n",
      "  0   0.07209\n",
      "  3   0.06507\n",
      "  6   0.03575\n"
     ]
    }
   ],
   "source": [
    "iSort = np.argsort(-v)   # the -v gives us a reverse sort and np.argsort gives us the indices of the sort\n",
    "print('Page  PageRank  \\n===============')\n",
    "for i in range(sizeOfNetwork):\n",
    "    print(f'{iSort[i]:3d}   {v[iSort[i]]:7.5f}')"
   ]
  },
  {
   "cell_type": "markdown",
   "metadata": {},
   "source": [
    "### Graph the PageRank"
   ]
  },
  {
   "cell_type": "code",
   "execution_count": 9,
   "metadata": {},
   "outputs": [
    {
     "data": {
      "image/png": "[encoded data removed]",
      "text/plain": [
       "<Figure size 640x480 with 1 Axes>"
      ]
     },
     "metadata": {},
     "output_type": "display_data"
    }
   ],
   "source": [
    "import matplotlib.pyplot as plt\n",
    "plt.plot(sorted(v))\n",
    "plt.show()"
   ]
  },
  {
   "cell_type": "code",
   "execution_count": null,
   "metadata": {},
   "outputs": [],
   "source": []
  }
 ],
 "metadata": {
  "kernelspec": {
   "display_name": "Python 3 (ipykernel)",
   "language": "python",
   "name": "python3"
  },
  "language_info": {
   "codemirror_mode": {
    "name": "ipython",
    "version": 3
   },
   "file_extension": ".py",
   "mimetype": "text/x-python",
   "name": "python",
   "nbconvert_exporter": "python",
   "pygments_lexer": "ipython3",
   "version": "3.10.9"
  }
 },
 "nbformat": 4,
 "nbformat_minor": 4
}
