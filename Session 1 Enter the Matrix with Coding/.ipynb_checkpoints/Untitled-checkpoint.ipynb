{
 "cells": [
  {
   "cell_type": "code",
   "execution_count": 1,
   "id": "c40c4782-6ea8-466c-9290-63de735053d3",
   "metadata": {},
   "outputs": [
    {
     "name": "stdout",
     "output_type": "stream",
     "text": [
      "x = \n",
      " [[-1  0  3]\n",
      " [ 2 -4  1]\n",
      " [ 3  4 -2]]\n",
      "y = \n",
      " [[ 2  1  0]\n",
      " [ 0 -2 -4]\n",
      " [-1  3  8]]\n"
     ]
    }
   ],
   "source": [
    "# Import numpy library\n",
    "import numpy as np\n",
    "# Create my matrices from the homework\n",
    "x = np.array([[-1,0,3],[2,-4, 1],[ 3,4,-2]])\n",
    "y = np.array([[ 2,1,0],[0,-2,-4],[-1,3,8]])\n",
    "print('x = \\n',x)\n",
    "print('y = \\n',y)\n"
   ]
  },
  {
   "cell_type": "code",
   "execution_count": 2,
   "id": "3497fa82-11e0-4399-a095-1997b0d7a552",
   "metadata": {},
   "outputs": [
    {
     "ename": "NameError",
     "evalue": "name 'fef' is not defined",
     "output_type": "error",
     "traceback": [
      "\u001b[0;31m---------------------------------------------------------------------------\u001b[0m",
      "\u001b[0;31mNameError\u001b[0m                                 Traceback (most recent call last)",
      "\u001b[0;32m<ipython-input-2-8f3291a84576>\u001b[0m in \u001b[0;36m<module>\u001b[0;34m\u001b[0m\n\u001b[0;32m----> 1\u001b[0;31m \u001b[0mfef\u001b[0m\u001b[0;34m\u001b[0m\u001b[0;34m\u001b[0m\u001b[0m\n\u001b[0m",
      "\u001b[0;31mNameError\u001b[0m: name 'fef' is not defined"
     ]
    }
   ],
   "source": [
    "fef"
   ]
  },
  {
   "cell_type": "markdown",
   "id": "49249793-061d-4f98-92e6-aa006447dda9",
   "metadata": {},
   "source": []
  }
 ],
 "metadata": {
  "kernelspec": {
   "display_name": "Python 3",
   "language": "python",
   "name": "python3"
  },
  "language_info": {
   "codemirror_mode": {
    "name": "ipython",
    "version": 3
   },
   "file_extension": ".py",
   "mimetype": "text/x-python",
   "name": "python",
   "nbconvert_exporter": "python",
   "pygments_lexer": "ipython3",
   "version": "3.8.8"
  }
 },
 "nbformat": 4,
 "nbformat_minor": 5
}
