{
 "cells": [
  {
   "cell_type": "code",
   "execution_count": 1,
   "id": "ed1ba07b-bc4d-4d5b-a32c-4926fefa8810",
   "metadata": {},
   "outputs": [],
   "source": [
    "# Import numpy library\n",
    "import numpy as np\n"
   ]
  },
  {
   "cell_type": "code",
   "execution_count": 7,
   "id": "06801883-719a-40d1-849c-6edbefd35024",
   "metadata": {},
   "outputs": [
    {
     "name": "stdout",
     "output_type": "stream",
     "text": [
      "x = \n",
      " [[-1  0  3]\n",
      " [ 2 -4  1]\n",
      " [ 3  4 -2]]\n",
      "y =1 \n",
      " [[ 2  1  0]\n",
      " [ 0 -2 -4]\n",
      " [-1  3  8]]\n",
      "time\n"
     ]
    }
   ],
   "source": [
    "# Create my matrices from the homework\n",
    "x = np.array([[-1,0,3],[2,-4, 1],[ 3,4,-2]])\n",
    "y = np.array([[ 2,1,0],[0,-2,-4],[-1,3,8]])\n",
    "print('x = \\n',x)\n",
    "print('y = \\n',y)\n",
    "print(\"time\")"
   ]
  },
  {
   "cell_type": "code",
   "execution_count": null,
   "id": "d563481c-4c1f-4cce-ab09-e27f85fceaf6",
   "metadata": {},
   "outputs": [],
   "source": []
  },
  {
   "cell_type": "code",
   "execution_count": null,
   "id": "c051c57c-5cfe-4e8a-a7d6-b86dc946a533",
   "metadata": {},
   "outputs": [],
   "source": []
  },
  {
   "cell_type": "code",
   "execution_count": null,
   "id": "8cd5fe5f-b4ef-41fc-b599-ba3a0da630ce",
   "metadata": {},
   "outputs": [],
   "source": []
  }
 ],
 "metadata": {
  "kernelspec": {
   "display_name": "Python 3",
   "language": "python",
   "name": "python3"
  },
  "language_info": {
   "codemirror_mode": {
    "name": "ipython",
    "version": 3
   },
   "file_extension": ".py",
   "mimetype": "text/x-python",
   "name": "python",
   "nbconvert_exporter": "python",
   "pygments_lexer": "ipython3",
   "version": "3.8.8"
  }
 },
 "nbformat": 4,
 "nbformat_minor": 5
}
