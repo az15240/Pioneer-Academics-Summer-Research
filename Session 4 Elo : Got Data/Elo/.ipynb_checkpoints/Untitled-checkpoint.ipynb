{
 "cells": [
  {
   "cell_type": "code",
   "execution_count": null,
   "id": "f7bbf414-6dce-41d0-aae7-5041ac13f69a",
   "metadata": {},
   "outputs": [],
   "source": [
    "from bs4 import BeautifulSoup\n",
    "from urllib.request import urlopen\n",
    "import pandas as pd\n",
    "import time\n",
    "\n",
    "print(\"fuck\")\n",
    "\n",
    "'''\n",
    "# What web page do we want? \n",
    "basePageAddress = \"https://codeforces.com/contest/1557/standings\"\n",
    "\n",
    "# Open and read in the web page \n",
    "soup = BeautifulSoup(urlopen(basePageAddress), \"html.parser\")\n",
    "\n",
    "# Read the table of data into a Dataframe \n",
    "table = soup.find_all('table')[0] \n",
    "df = pd.read_html(str(table))[0]\n",
    "time.sleep(0.1) # Build in a pause so you don't get locked out of the site! :-) \n",
    "\n",
    "# Note, I don't currently  have a mechanism to stop but this DOES create the dataframe of your data.\n",
    "for pageIndex in range(2,5):\n",
    "    # Open and read in the web page \n",
    "    soup = BeautifulSoup(urlopen(basePageAddress + \"/page/\" + str(pageIndex)), \"html.parser\")\n",
    "\n",
    "    # Read the table of data into a Dataframe \n",
    "    table = soup.find_all('table')[0]\n",
    "#    dfNew = pd.read_html(str(table))\n",
    "    df = df.append(pd.read_html(str(table)),ignore_index=True)\n",
    "    time.sleep(0.1) # Build in a pause so you don't get locked out of the site! :-) \n",
    "    \n",
    "df \n",
    "\n",
    "'''"
   ]
  },
  {
   "cell_type": "code",
   "execution_count": null,
   "id": "f518b012-067f-4133-ba17-39fd2fc8096d",
   "metadata": {},
   "outputs": [],
   "source": [
    "print(\"fuck\")"
   ]
  },
  {
   "cell_type": "code",
   "execution_count": null,
   "id": "eadbb28c-668d-49db-9795-1284e96a73d1",
   "metadata": {},
   "outputs": [],
   "source": [
    "\n"
   ]
  }
 ],
 "metadata": {
  "kernelspec": {
   "display_name": "Python 3",
   "language": "python",
   "name": "python3"
  },
  "language_info": {
   "codemirror_mode": {
    "name": "ipython",
    "version": 3
   },
   "file_extension": ".py",
   "mimetype": "text/x-python",
   "name": "python",
   "nbconvert_exporter": "python",
   "pygments_lexer": "ipython3",
   "version": "3.8.8"
  }
 },
 "nbformat": 4,
 "nbformat_minor": 5
}
