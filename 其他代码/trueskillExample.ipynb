{
 "cells": [
  {
   "cell_type": "markdown",
   "id": "every-forest",
   "metadata": {},
   "source": [
    "## TrueSkill Example"
   ]
  },
  {
   "cell_type": "code",
   "execution_count": 1,
   "id": "sixth-block",
   "metadata": {},
   "outputs": [
    {
     "name": "stdout",
     "output_type": "stream",
     "text": [
      "This match seems to be not so fair\n"
     ]
    }
   ],
   "source": [
    "# This example is from: \n",
    "# https://pypi.org/project/trueskill/\n",
    "from trueskill import Rating, quality_1vs1, rate_1vs1, rate\n",
    "alice, bob = Rating(25), Rating(30)  # assign Alice and Bob's ratings\n",
    "if quality_1vs1(alice, bob) < 0.50:\n",
    "    print('This match seems to be not so fair')\n",
    "alice, bob = rate_1vs1(alice, bob)  # update the ratings after the match"
   ]
  },
  {
   "cell_type": "markdown",
   "id": "canadian-cologne",
   "metadata": {},
   "source": [
    "### How do the ratings update? "
   ]
  },
  {
   "cell_type": "code",
   "execution_count": 17,
   "id": "soviet-stuart",
   "metadata": {},
   "outputs": [
    {
     "name": "stdout",
     "output_type": "stream",
     "text": [
      "Alice =  trueskill.Rating(mu=30.768, sigma=7.030)\n",
      "Bob =  trueskill.Rating(mu=24.232, sigma=7.030)\n"
     ]
    }
   ],
   "source": [
    "print('Alice = ',alice)\n",
    "print('Bob = ',bob)"
   ]
  },
  {
   "cell_type": "markdown",
   "id": "enclosed-equality",
   "metadata": {},
   "source": [
    "### Let's look at a larger example"
   ]
  },
  {
   "cell_type": "code",
   "execution_count": 13,
   "id": "infinite-tribune",
   "metadata": {},
   "outputs": [
    {
     "name": "stdout",
     "output_type": "stream",
     "text": [
      "trueskill.Rating(mu=29.396, sigma=7.171) trueskill.Rating(mu=20.604, sigma=7.171)\n",
      "trueskill.Rating(mu=25.046, sigma=6.265) trueskill.Rating(mu=19.003, sigma=6.873)\n",
      "trueskill.Rating(mu=30.965, sigma=6.568) trueskill.Rating(mu=17.561, sigma=6.343)\n",
      "trueskill.Rating(mu=23.933, sigma=5.479) trueskill.Rating(mu=24.122, sigma=5.369)\n"
     ]
    }
   ],
   "source": [
    "alice, bob, cici = Rating(25), Rating(25), Rating(25) # assign ratings\n",
    "alice, bob = rate_1vs1(alice, bob)   # update the ratings after alice beats bob\n",
    "print(alice, bob)\n",
    "bob, cici = rate_1vs1(bob, cici)     # update the ratings after bob beats cici\n",
    "print(bob,cici)\n",
    "alice, cici = rate_1vs1(alice, cici) # update the ratings after alice beats cici\n",
    "print(alice,cici)\n",
    "cici, alice = rate_1vs1(cici, alice) # update the ratings after cici beats alice\n",
    "print(alice,cici)"
   ]
  },
  {
   "cell_type": "markdown",
   "id": "smooth-steam",
   "metadata": {},
   "source": [
    "### To rank in groups: \n",
    "\n",
    "https://trueskill.org/#trueskill.TrueSkill.rate"
   ]
  },
  {
   "cell_type": "code",
   "execution_count": null,
   "id": "great-integrity",
   "metadata": {},
   "outputs": [],
   "source": []
  }
 ],
 "metadata": {
  "kernelspec": {
   "display_name": "Python 3",
   "language": "python",
   "name": "python3"
  },
  "language_info": {
   "codemirror_mode": {
    "name": "ipython",
    "version": 3
   },
   "file_extension": ".py",
   "mimetype": "text/x-python",
   "name": "python",
   "nbconvert_exporter": "python",
   "pygments_lexer": "ipython3",
   "version": "3.8.8"
  }
 },
 "nbformat": 4,
 "nbformat_minor": 5
}
